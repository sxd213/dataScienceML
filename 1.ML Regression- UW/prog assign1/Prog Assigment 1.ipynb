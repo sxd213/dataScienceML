{
 "cells": [
  {
   "cell_type": "code",
   "execution_count": 1,
   "metadata": {
    "collapsed": true
   },
   "outputs": [],
   "source": [
    "import pandas as pd\n",
    "import numpy as np\n",
    "import matplotlib as plt"
   ]
  },
  {
   "cell_type": "markdown",
   "metadata": {},
   "source": [
    "Defining column and data types"
   ]
  },
  {
   "cell_type": "code",
   "execution_count": 2,
   "metadata": {
    "collapsed": true
   },
   "outputs": [],
   "source": [
    "dtype_dict = {'bathrooms':float, 'waterfront':int, 'sqft_above':int, 'sqft_living15':float, 'grade':int, \n",
    "              'yr_renovated':int, 'price':float, 'bedrooms':float, 'zipcode':str, 'long':float, 'sqft_lot15':float, 'sqft_living':float, \n",
    "              'floors':str, 'condition':int, 'lat':float, 'date':str, 'sqft_basement':int, 'yr_built':int, 'id':str, \n",
    "              'sqft_lot':int, 'view':int}"
   ]
  },
  {
   "cell_type": "code",
   "execution_count": 3,
   "metadata": {
    "collapsed": false
   },
   "outputs": [
    {
     "data": {
      "text/plain": [
       "dict"
      ]
     },
     "execution_count": 3,
     "metadata": {},
     "output_type": "execute_result"
    }
   ],
   "source": [
    "type(dtype_dict)"
   ]
  },
  {
   "cell_type": "markdown",
   "metadata": {},
   "source": [
    "### Importing based on data dictionary"
   ]
  },
  {
   "cell_type": "code",
   "execution_count": 11,
   "metadata": {
    "collapsed": false
   },
   "outputs": [
    {
     "data": {
      "text/plain": [
       "'sqft_living'"
      ]
     },
     "execution_count": 11,
     "metadata": {},
     "output_type": "execute_result"
    }
   ],
   "source": [
    "sales = pd.read_csv('kc_house_datkc_house_data.csv', converters= dtype_dict)\n",
    "#sales.dtypes\n",
    "\n",
    "#print sales.shape, len(sales)\n",
    "cn =list(sales)\n",
    "cn[5]"
   ]
  },
  {
   "cell_type": "markdown",
   "metadata": {},
   "source": [
    "### Spliting Test and train data using numpy rand"
   ]
  },
  {
   "cell_type": "code",
   "execution_count": 20,
   "metadata": {
    "collapsed": false
   },
   "outputs": [
    {
     "name": "stdout",
     "output_type": "stream",
     "text": [
      "train length: 17280 test length: 4333\n"
     ]
    }
   ],
   "source": [
    "msk = np.random.rand(len(sales)) < 0.8\n",
    "print 'train length:', len(sales[msk]),'test length:' ,len(sales[~msk])\n",
    "train = sales[msk]\n",
    "test = sales[~msk]\n",
    "#train_data,test_data = sales.random_split(.8,seed=0)"
   ]
  },
  {
   "cell_type": "markdown",
   "metadata": {},
   "source": [
    "### Generic function that accepts a column of data (e.g, an SArray) ‘input_feature’ and and another column ‘output’ and returns the Simple Linear Regression parameters ‘intercept’ and ‘slope’. \n"
   ]
  },
  {
   "cell_type": "code",
   "execution_count": 37,
   "metadata": {
    "collapsed": false
   },
   "outputs": [],
   "source": [
    "def simple_linear_reg(input_feature, output):\n",
    "    N = len(input_feature)\n",
    "    X= input_feature\n",
    "    Y= output\n",
    "    numerator = sum(X*Y) - float(1.0/N)*(sum(X) * sum(Y))\n",
    "    denominator = sum(X*X) - float(1.0/N)*sum(X) * sum(X)\n",
    "    slope = numerator/ denominator\n",
    "    intercept = sum(Y)*(1.0/float(N)) - slope*sum(X)*(1.0/float(N))\n",
    "    return(intercept, slope)"
   ]
  },
  {
   "cell_type": "code",
   "execution_count": 40,
   "metadata": {
    "collapsed": true
   },
   "outputs": [],
   "source": [
    "def simple_linear_regression(input_feature, output):\n",
    "    Xi = input_feature\n",
    "    Yi = output\n",
    "    N = len(Xi)\n",
    "    # compute the mean of  input_feature and output\n",
    "    Ymean = Yi.mean()\n",
    "    Xmean = Xi.mean()\n",
    "    \n",
    "    # compute the product of the output and the input_feature and its mean\n",
    "    SumYiXi = (Yi * Xi).sum()\n",
    "    YiXiByN = (Yi.sum() * Xi.sum()) / N\n",
    "    \n",
    "    # compute the squared value of the input_feature and its mean\n",
    "    XiSq = (Xi * Xi).sum()\n",
    "    XiXiByN = (Xi.sum() * Xi.sum()) / N\n",
    "    \n",
    "    # use the formula for the slope\n",
    "    slope = (SumYiXi - YiXiByN) / (XiSq - XiXiByN)\n",
    "    \n",
    "    # use the formula for the intercept\n",
    "    intercept = Ymean - (slope * Xmean)\n",
    "    return (intercept, slope)"
   ]
  },
  {
   "cell_type": "code",
   "execution_count": 41,
   "metadata": {
    "collapsed": false
   },
   "outputs": [
    {
     "name": "stdout",
     "output_type": "stream",
     "text": [
      "(-43580.743094474426, 280.62356789744842)\n"
     ]
    },
    {
     "data": {
      "text/plain": [
       "(-43434.20123813511, 280.3160190390934)"
      ]
     },
     "execution_count": 41,
     "metadata": {},
     "output_type": "execute_result"
    }
   ],
   "source": [
    "X = sales[\"sqft_living\"]\n",
    "Y = sales[\"price\"]\n",
    "N = len(X)\n",
    "numerator = sum(X*Y) - float(1.0/N)*(sum(X) * sum(Y))\n",
    "denominator = sum(X*X) - float(1.0/N)*(sum(X) * sum(X))\n",
    "slope = numerator/ denominator\n",
    "intercept = sum(Y)*(1.0/float(N)) - slope*sum(X)*(1.0/float(N))\n",
    "print(intercept ,slope)\n",
    "\n",
    "simple_linear_regression(train[\"sqft_living\"], train[\"price\"])"
   ]
  },
  {
   "cell_type": "markdown",
   "metadata": {},
   "source": [
    "### Function that accepts a column of data ‘input_feature’, the ‘slope’, and the ‘intercept’ you learned, and returns an a column of predictions ‘predicted_output’"
   ]
  },
  {
   "cell_type": "code",
   "execution_count": 10,
   "metadata": {
    "collapsed": false
   },
   "outputs": [],
   "source": [
    "def get_regression_predictions(input_feature, intercept, slope):\n",
    "    predicted_output = intercept + slope*input_feature\n",
    "    return(predicted_output)"
   ]
  },
  {
   "cell_type": "code",
   "execution_count": 42,
   "metadata": {
    "collapsed": false
   },
   "outputs": [
    {
     "data": {
      "text/plain": [
       "699403.2492154625"
      ]
     },
     "execution_count": 42,
     "metadata": {},
     "output_type": "execute_result"
    }
   ],
   "source": [
    "yhat = get_regression_predictions(sales[\"sqft_living\"],-43580.743094474426, 280.62356789744842)\n",
    "get_regression_predictions(2650,-43434.20123813511, 280.3160190390934)"
   ]
  },
  {
   "cell_type": "markdown",
   "metadata": {},
   "source": [
    "### Residual sum of squares"
   ]
  },
  {
   "cell_type": "code",
   "execution_count": 24,
   "metadata": {
    "collapsed": false
   },
   "outputs": [
    {
     "data": {
      "text/plain": [
       "1174391036249114.0"
      ]
     },
     "execution_count": 24,
     "metadata": {},
     "output_type": "execute_result"
    }
   ],
   "source": [
    "def get_residual_sum_of_squares(input_feature, output, intercept,slope):\n",
    "    RSS = sum((output - (intercept+slope*input_feature))*(output - (intercept+slope*input_feature)))\n",
    "    return(RSS)\n",
    "\n",
    "get_residual_sum_of_squares(train[\"sqft_living\"], train[\"price\"],-43580.743094474426, 280.62356789744842)"
   ]
  },
  {
   "cell_type": "markdown",
   "metadata": {},
   "source": [
    "### Inverse Linear Regression"
   ]
  },
  {
   "cell_type": "code",
   "execution_count": 35,
   "metadata": {
    "collapsed": false
   },
   "outputs": [
    {
     "name": "stdout",
     "output_type": "stream",
     "text": [
      "3008.86907616\n",
      "3009.1537256\n"
     ]
    }
   ],
   "source": [
    "def inverse_regression_predictions(output, intercept, slope):\n",
    "    estimated_input = (1.0/ slope)*(output - intercept)\n",
    "    return(estimated_input)\n",
    "\n",
    "print inverse_regression_predictions(800000,-43434.201238134992, 280.31601903909342)\n",
    "print (800000+44850)/ 280.76 "
   ]
  },
  {
   "cell_type": "code",
   "execution_count": 26,
   "metadata": {
    "collapsed": false
   },
   "outputs": [
    {
     "data": {
      "text/plain": [
       "(129802.35631825897, 121716.12651183833)"
      ]
     },
     "execution_count": 26,
     "metadata": {},
     "output_type": "execute_result"
    }
   ],
   "source": [
    "simple_linear_regression(sales[\"bedrooms\"], sales[\"price\"])"
   ]
  },
  {
   "cell_type": "code",
   "execution_count": 27,
   "metadata": {
    "collapsed": false
   },
   "outputs": [
    {
     "data": {
      "text/plain": [
       "302885326073388.31"
      ]
     },
     "execution_count": 27,
     "metadata": {},
     "output_type": "execute_result"
    }
   ],
   "source": [
    "get_residual_sum_of_squares(test[\"sqft_living\"], test[\"price\"], -43580.743094474426, 280.62356789744842)"
   ]
  },
  {
   "cell_type": "code",
   "execution_count": 28,
   "metadata": {
    "collapsed": false
   },
   "outputs": [
    {
     "data": {
      "text/plain": [
       "542917373185141.44"
      ]
     },
     "execution_count": 28,
     "metadata": {},
     "output_type": "execute_result"
    }
   ],
   "source": [
    "get_residual_sum_of_squares(test[\"bedrooms\"], test[\"price\"],129802.35631825897, 121716.12651183833)"
   ]
  }
 ],
 "metadata": {
  "kernelspec": {
   "display_name": "Python 2",
   "language": "python",
   "name": "python2"
  },
  "language_info": {
   "codemirror_mode": {
    "name": "ipython",
    "version": 2
   },
   "file_extension": ".py",
   "mimetype": "text/x-python",
   "name": "python",
   "nbconvert_exporter": "python",
   "pygments_lexer": "ipython2",
   "version": "2.7.11"
  }
 },
 "nbformat": 4,
 "nbformat_minor": 0
}
