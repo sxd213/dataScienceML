{
 "cells": [
  {
   "cell_type": "code",
   "execution_count": 129,
   "metadata": {
    "collapsed": true
   },
   "outputs": [],
   "source": [
    "import numpy as np\n",
    "import pandas as pd"
   ]
  },
  {
   "cell_type": "code",
   "execution_count": 130,
   "metadata": {
    "collapsed": true
   },
   "outputs": [],
   "source": [
    "dtype_dict = {'bathrooms':float, 'waterfront':int, 'sqft_above':int, 'sqft_living15':float, 'grade':int, 'yr_renovated':int, 'price':float, 'bedrooms':float, 'zipcode':str, 'long':float, 'sqft_lot15':float, 'sqft_living':float, 'floors':str, 'condition':int, 'lat':float, 'date':str, 'sqft_basement':int, 'yr_built':int, 'id':str, 'sqft_lot':int, 'view':int}"
   ]
  },
  {
   "cell_type": "code",
   "execution_count": 131,
   "metadata": {
    "collapsed": false
   },
   "outputs": [
    {
     "name": "stderr",
     "output_type": "stream",
     "text": [
      "C:\\Anaconda2\\envs\\gl-env\\lib\\site-packages\\ipykernel\\__main__.py:4: FutureWarning: sort(columns=....) is deprecated, use sort_values(by=.....)\n",
      "C:\\Anaconda2\\envs\\gl-env\\lib\\site-packages\\ipykernel\\__main__.py:5: FutureWarning: sort(columns=....) is deprecated, use sort_values(by=.....)\n",
      "C:\\Anaconda2\\envs\\gl-env\\lib\\site-packages\\ipykernel\\__main__.py:6: FutureWarning: sort(columns=....) is deprecated, use sort_values(by=.....)\n"
     ]
    }
   ],
   "source": [
    "sales = pd.read_csv('kc_house_data.csv/kc_house_data.csv', dtype=dtype_dict)\n",
    "train_data = pd.read_csv('kc_house_train_data.csv/kc_house_train_data.csv', dtype=dtype_dict)\n",
    "test_data = pd.read_csv('kc_house_test_data.csv/kc_house_test_data.csv', dtype=dtype_dict)\n",
    "sales = sales.sort(['sqft_living','price'])\n",
    "train_data = train_data.sort(['sqft_living','price'])\n",
    "test_data = test_data.sort(['sqft_living','price'])"
   ]
  },
  {
   "cell_type": "code",
   "execution_count": 132,
   "metadata": {
    "collapsed": true
   },
   "outputs": [],
   "source": [
    "def get_numpy_data(data_sframe, features, output):\n",
    "    data_sframe['constant'] = 1 # this is how you add a constant column to an SFrame\n",
    "    # add the column 'constant' to the front of the features list so that we can extract it along with the others:\n",
    "    features = ['constant'] + features # this is how you combine two lists\n",
    "    # select the columns of data_SFrame given by the features list into the SFrame features_sframe (now including constant):\n",
    "\n",
    "    # the following line will convert the features_SFrame into a numpy matrix:\n",
    "    feature_matrix = data_sframe.loc[:,features].as_matrix()\n",
    "    # assign the column of data_sframe associated with the output to the SArray output_sarray\n",
    "\n",
    "    # the following will convert the SArray into a numpy array by first converting it to a list\n",
    "    output_array = data_sframe.loc[:,output].as_matrix()\n",
    "    return(feature_matrix, output_array)"
   ]
  },
  {
   "cell_type": "code",
   "execution_count": 133,
   "metadata": {
    "collapsed": true
   },
   "outputs": [],
   "source": [
    "def predict_output(feature_matrix, weights):\n",
    "    # assume feature_matrix is a numpy matrix containing the features as columns and weights is a corresponding numpy array\n",
    "    # create the predictions vector by using np.dot()\n",
    "    predictions = np.dot(feature_matrix, weights)\n",
    "    #predictions = predic.reshape(len(predic),1)\n",
    "    return(predictions)"
   ]
  },
  {
   "cell_type": "code",
   "execution_count": 134,
   "metadata": {
    "collapsed": true
   },
   "outputs": [],
   "source": [
    "def feature_derivative_ridge(errors, feature, weight, l2_penalty, feature_is_constant):\n",
    "    # Assume that errors and feature are both numpy arrays of the same length (number of data points)\n",
    "    # compute twice the dot product of these vectors as 'derivative' and return the value\n",
    "    if feature_is_constant == True:\n",
    "        derivative = 2*np.dot(feature, errors)\n",
    "    else:\n",
    "        derivative = 2*np.dot(feature, errors)+ 2*l2_penalty*weight\n",
    "    return(derivative)"
   ]
  },
  {
   "cell_type": "code",
   "execution_count": 135,
   "metadata": {
    "collapsed": false
   },
   "outputs": [
    {
     "name": "stdout",
     "output_type": "stream",
     "text": [
      "-5.6554166816e+13\n",
      "-5.6554166816e+13\n",
      "\n",
      "-22446749330.0\n",
      "-22446749330.0\n"
     ]
    }
   ],
   "source": [
    "(example_features, example_output) = get_numpy_data(sales, ['sqft_living'], 'price')\n",
    "my_weights = np.array([1., 10.])\n",
    "test_predictions = predict_output(example_features, my_weights)\n",
    "errors = test_predictions - example_output # prediction errors\n",
    "\n",
    "# next two lines should print the same values\n",
    "print feature_derivative_ridge(errors, example_features[:,1], my_weights[1], 1, False)\n",
    "print np.sum(errors*example_features[:,1])*2+20.\n",
    "print ''\n",
    "\n",
    "# next two lines should print the same values\n",
    "print feature_derivative_ridge(errors, example_features[:,0], my_weights[0], 1, True)\n",
    "print np.sum(errors)*2."
   ]
  },
  {
   "cell_type": "markdown",
   "metadata": {},
   "source": [
    "### L2 Gradient Descent Function"
   ]
  },
  {
   "cell_type": "code",
   "execution_count": 136,
   "metadata": {
    "collapsed": false
   },
   "outputs": [],
   "source": [
    "def ridge_regression_gradient_descent(feature_matrix, output, initial_weights, step_size, l2_penalty, max_iterations=100):\n",
    "    j= 0\n",
    "    weights = np.array(initial_weights) # make sure it's a numpy array\n",
    "        #while not reached maximum number of iterations:\n",
    "    while j <= max_iterations:\n",
    "        # compute the predictions using your predict_output() function\n",
    "        predictions = predict_output(feature_matrix, weights)\n",
    "        # compute the errors as predictions - output\n",
    "        errors = predictions - output\n",
    "        for i in xrange(len(weights)): # loop over each weight\n",
    "            # Recall that feature_matrix[:,i] is the feature column associated with weights[i]\n",
    "            if i == 0:\n",
    "                derivative = feature_derivative_ridge(errors, feature_matrix[:,i], weights[i], l2_penalty, True)\n",
    "            else: \n",
    "                derivative = feature_derivative_ridge(errors, feature_matrix[:,i], weights[i], l2_penalty, False)\n",
    "            # compute the derivative for weight[i].\n",
    "            #(Remember: when i=0, you are computing the derivative of the constant!)\n",
    "            weights[i] -= (step_size * derivative)\n",
    "            # subtract the step size times the derivative from the current weight \n",
    "            j += 1\n",
    "    return weights"
   ]
  },
  {
   "cell_type": "code",
   "execution_count": 137,
   "metadata": {
    "collapsed": false
   },
   "outputs": [],
   "source": [
    "simple_features = ['sqft_living']\n",
    "my_output = 'price'\n",
    "(simple_feature_matrix, output) = get_numpy_data(train_data, simple_features, my_output)\n",
    "(simple_test_feature_matrix, test_output) = get_numpy_data(test_data, simple_features, my_output)"
   ]
  },
  {
   "cell_type": "code",
   "execution_count": 138,
   "metadata": {
    "collapsed": false
   },
   "outputs": [
    {
     "name": "stdout",
     "output_type": "stream",
     "text": [
      "[ 0.  0.]\n",
      "[  9.19876768e-02   2.63013656e+02]\n"
     ]
    }
   ],
   "source": [
    "step_size = 1e-12\n",
    "max_iterations = 1000\n",
    "\n",
    "initial_weights = np.zeros(example_features.shape[1])\n",
    "print initial_weights\n",
    "\n",
    "# Setting L2 = 0\n",
    "l2_penalty = 0\n",
    "simple_weights_0_penalty = ridge_regression_gradient_descent(simple_feature_matrix, output, initial_weights, step_size, \n",
    "                                                             l2_penalty, max_iterations=100)\n",
    "print simple_weights_0_penalty"
   ]
  },
  {
   "cell_type": "code",
   "execution_count": 139,
   "metadata": {
    "collapsed": false
   },
   "outputs": [
    {
     "name": "stdout",
     "output_type": "stream",
     "text": [
      "1e+11\n",
      "[   0.52063892  124.57393563]\n"
     ]
    }
   ],
   "source": [
    "# Setting L2 High Penlaty\n",
    "l2_penalty = 1e11\n",
    "print l2_penalty\n",
    "simple_weights_high_penalty = ridge_regression_gradient_descent(simple_feature_matrix, output, initial_weights, step_size, \n",
    "                                                             l2_penalty, max_iterations=100)\n",
    "\n",
    "print simple_weights_high_penalty"
   ]
  },
  {
   "cell_type": "code",
   "execution_count": 140,
   "metadata": {
    "collapsed": false
   },
   "outputs": [
    {
     "data": {
      "text/plain": [
       "[<matplotlib.lines.Line2D at 0xe9bc3c8>,\n",
       " <matplotlib.lines.Line2D at 0xe9bc4a8>,\n",
       " <matplotlib.lines.Line2D at 0xe9bc630>,\n",
       " <matplotlib.lines.Line2D at 0xe9c90b8>,\n",
       " <matplotlib.lines.Line2D at 0xe9c91d0>,\n",
       " <matplotlib.lines.Line2D at 0xe9c9ba8>]"
      ]
     },
     "execution_count": 140,
     "metadata": {},
     "output_type": "execute_result"
    },
    {
     "data": {
      "image/png": "[encoded data removed]",
      "text/plain": [
       "<matplotlib.figure.Figure at 0xe8ac0b8>"
      ]
     },
     "metadata": {},
     "output_type": "display_data"
    }
   ],
   "source": [
    "import matplotlib.pyplot as plt\n",
    "%matplotlib inline\n",
    "plt.plot(simple_feature_matrix,output,'k.',\n",
    "        simple_feature_matrix,predict_output(simple_feature_matrix, simple_weights_0_penalty),'b-',\n",
    "        simple_feature_matrix,predict_output(simple_feature_matrix, simple_weights_high_penalty),'r-')"
   ]
  },
  {
   "cell_type": "code",
   "execution_count": 141,
   "metadata": {
    "collapsed": false
   },
   "outputs": [
    {
     "name": "stdout",
     "output_type": "stream",
     "text": [
      "The initial weights (all zeros) 1.784273e+15:\n",
      "The weights learned with no regularization 2.757238e+14:\n",
      "The weights learned with high regularization 6.946537e+14:\n"
     ]
    }
   ],
   "source": [
    "def rss(simple_feature_matrix, test_weight,output):\n",
    "    res = predict_output(simple_feature_matrix, test_weight)-output\n",
    "    res = sum(res*res)\n",
    "    return(res)\n",
    "\n",
    "print 'The initial weights (all zeros) %e:' % rss(simple_test_feature_matrix, initial_weights,test_output)\n",
    "print 'The weights learned with no regularization %e:' % rss(simple_test_feature_matrix, simple_weights_0_penalty,test_output)\n",
    "print 'The weights learned with high regularization %e:' % rss(simple_test_feature_matrix, simple_weights_high_penalty,test_output)"
   ]
  },
  {
   "cell_type": "code",
   "execution_count": 155,
   "metadata": {
    "collapsed": false
   },
   "outputs": [
    {
     "name": "stdout",
     "output_type": "stream",
     "text": [
      "(4229L, 3L)\n"
     ]
    }
   ],
   "source": [
    "model_features = ['sqft_living', 'sqft_living15']\n",
    "my_output = 'price'\n",
    "(feature_matrix, output) = get_numpy_data(train_data, model_features, my_output)\n",
    "(test_feature_matrix, test_output) = get_numpy_data(test_data, model_features, my_output)\n",
    "\n",
    "print test_feature_matrix.shape\n"
   ]
  },
  {
   "cell_type": "code",
   "execution_count": 168,
   "metadata": {
    "collapsed": false
   },
   "outputs": [
    {
     "name": "stdout",
     "output_type": "stream",
     "text": [
      "[ 0.  0.  0.]\n",
      "0 penalty [  3.83037308e-02   1.61114907e+02   1.11390685e+02]\n",
      "large penalty [  0.25127369  91.48899895  78.43870199]\n"
     ]
    }
   ],
   "source": [
    "step_size = 1e-12\n",
    "max_iterations = 1000\n",
    "\n",
    "initial_weights = np.zeros(feature_matrix.shape[1])\n",
    "print initial_weights\n",
    "\n",
    "# Setting L2 = 0\n",
    "l2_penalty = 0\n",
    "\n",
    "multiple_weights_0_penalty= ridge_regression_gradient_descent(feature_matrix, output, initial_weights, step_size, \n",
    "                                                             l2_penalty, max_iterations=100)\n",
    "print '0 penalty', multiple_weights_0_penalty\n",
    "\n",
    "l2_penalty = 1e11\n",
    "multiple_weights_high_penalty= ridge_regression_gradient_descent(feature_matrix, output, initial_weights, step_size, \n",
    "                                                             l2_penalty, max_iterations=100)\n",
    "\n",
    "print 'large penalty', multiple_weights_high_penalty"
   ]
  },
  {
   "cell_type": "code",
   "execution_count": 167,
   "metadata": {
    "collapsed": false
   },
   "outputs": [
    {
     "name": "stdout",
     "output_type": "stream",
     "text": [
      "The initial weights (all zeros) 1.784273e+15:\n",
      "The weights learned with no regularization 2.802588e+14:\n",
      "The weights learned with high regularization 5.004087e+14:\n"
     ]
    }
   ],
   "source": [
    "print 'The initial weights (all zeros) %e:' % rss(test_feature_matrix, initial_weights,test_output)\n",
    "print 'The weights learned with no regularization %e:' % rss(test_feature_matrix, multiple_weights_0_penalty,test_output)\n",
    "print 'The weights learned with high regularization %e:' % rss(test_feature_matrix, multiple_weights_high_penalty,test_output)"
   ]
  },
  {
   "cell_type": "code",
   "execution_count": 166,
   "metadata": {
    "collapsed": false
   },
   "outputs": [
    {
     "name": "stdout",
     "output_type": "stream",
     "text": [
      "142000.0 0.0 142000.0\n",
      "142000.0 208876.071349 -66876.0713493\n",
      "142000.0 138959.041551 3040.95844917\n"
     ]
    }
   ],
   "source": [
    "print output[0], predict_output(test_feature_matrix[0,:], initial_weights), output[0]- predict_output(test_feature_matrix[0,:], initial_weights)\n",
    "print output[0], predict_output(test_feature_matrix[0,:], multiple_weights_0_penalty), output[0]- predict_output(test_feature_matrix[0,:], multiple_weights_0_penalty)\n",
    "print output[0], predict_output(test_feature_matrix[0,:], multiple_weights_high_penalty), output[0]-predict_output(test_feature_matrix[0,:], multiple_weights_high_penalty)"
   ]
  }
 ],
 "metadata": {
  "kernelspec": {
   "display_name": "Python 2",
   "language": "python",
   "name": "python2"
  },
  "language_info": {
   "codemirror_mode": {
    "name": "ipython",
    "version": 2
   },
   "file_extension": ".py",
   "mimetype": "text/x-python",
   "name": "python",
   "nbconvert_exporter": "python",
   "pygments_lexer": "ipython2",
   "version": "2.7.11"
  }
 },
 "nbformat": 4,
 "nbformat_minor": 0
}
